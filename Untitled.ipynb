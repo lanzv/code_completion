{
 "cells": [
  {
   "cell_type": "code",
   "execution_count": 8,
   "id": "f14ffff9-cfbd-4d5e-b784-cf336b63e05b",
   "metadata": {},
   "outputs": [
    {
     "name": "stdout",
     "output_type": "stream",
     "text": [
      "2024-05-05 05:35:02 INFO     Repository https://github.com/JetBrains/kotlin cloned successfully\n",
      "2024-05-05 05:36:11 INFO     The code was preprocessed, overall there are 54673 files, on average of 432.0392332595614 tokens\n",
      "2024-05-05 05:36:21 INFO     The dataset was created and stored to ./data/kotlin.json file\n",
      "2024-05-05 05:37:22 INFO     The cloned directory ./large_kotlin_project was deleted\n"
     ]
    }
   ],
   "source": [
    "!python parse_kotlin_dataset.py"
   ]
  },
  {
   "cell_type": "code",
   "execution_count": 6,
   "id": "e60ac342-79bf-4ad9-9944-23f4ea00ef74",
   "metadata": {},
   "outputs": [],
   "source": [
    "import random\n",
    "random.shuffle(list(range(len([1, 2, 3, 4, 5]))))"
   ]
  },
  {
   "cell_type": "code",
   "execution_count": 3,
   "id": "569487da-653e-4fa8-bbbf-9ddd0613293f",
   "metadata": {},
   "outputs": [
    {
     "name": "stdout",
     "output_type": "stream",
     "text": [
      "tady\n"
     ]
    }
   ],
   "source": [
    "from transformers import AutoModelForCausalLM\n",
    "print(\"tady\")\n",
    "model = AutoModelForCausalLM.from_pretrained(\"../../models/starcoder2-3b\")\n"
   ]
  },
  {
   "cell_type": "code",
   "execution_count": 5,
   "id": "31e42c58-ae68-4c53-8b9f-6eaabc317c2f",
   "metadata": {},
   "outputs": [],
   "source": [
    "code = \"\"\"\n",
    "/*\n",
    " * Copyright 2010-2018 JetBrains s.r.o. and Kotlin Programming Language contributors.\n",
    " * Use of this source code is governed by the Apache 2.0 license that can be found in the license/LICENSE.txt file.\n",
    " */\n",
    "\n",
    "package kotlin.test.junit5\n",
    "\n",
    "import org.junit.jupiter.api.Assertions\n",
    "import kotlin.test.*\n",
    "\n",
    "/**\n",
    " * Provides [JUnit5Asserter] if `org.junit.jupiter.api.Assertions` class is found in the classpath.\n",
    " */\n",
    "public class JUnit5Contributor : AsserterContributor {\n",
    "    override fun contribute(): Asserter? {\n",
    "        return if (hasJUnitInClassPath) JUnit5Asserter else null\n",
    "    }\n",
    "\n",
    "    private val hasJUnitInClassPath = try {\n",
    "        Class.forName(\"org.junit.jupiter.api.Assertions\")\n",
    "        true\n",
    "    } catch (_: ClassNotFoundException) {\n",
    "        false\n",
    "    }\n",
    "}\n",
    "\n",
    "/**\n",
    " * Implements `kotlin.test` assertions by delegating them to `org.junit.jupiter.api.Assertions` class.\n",
    " */\n",
    "public object JUnit5Asserter : Asserter {\n",
    "    override fun assertEquals(message: String?, expected: Any?, actual: Any?) {\n",
    "        Assertions.assertEquals(expected, actual, message)\n",
    "    }\n",
    "\n",
    "    override fun assertNotEquals(message: String?, illegal: Any?, actual: Any?) {\n",
    "        Assertions.assertNotEquals(illegal, actual, message)\n",
    "    }\n",
    "\n",
    "    override fun assertSame(message: String?, expected: Any?, actual: Any?) {\n",
    "        Assertions.assertSame(expected, actual, message)\n",
    "    }\n",
    "\n",
    "    override fun assertNotSame(message: String?, illegal: Any?, actual: Any?) {\n",
    "        Assertions.assertNotSame(illegal, actual, message)\n",
    "    }\n",
    "\n",
    "    override fun assertNotNull(message: String?, actual: Any?) {\n",
    "        Assertions.assertNotNull(actual, message ?: \"actual value is null\")\n",
    "    }\n",
    "\n",
    "    override fun assertNull(message: String?, actual: Any?) {\n",
    "        Assertions.assertNull(actual, message ?: \"actual value is not null\")\n",
    "    }\n",
    "\n",
    "    override fun fail(message: String?): Nothing {\n",
    "        Assertions.fail<Any?>(message)\n",
    "        // should not get here\n",
    "        throw AssertionError(message)\n",
    "    }\n",
    "\n",
    "    @SinceKotlin(\"1.4\")\n",
    "    override fun fail(message: String?, cause: Throwable?): Nothing {\n",
    "        Assertions.fail<Any?>(message, cause)\n",
    "        // should not get here\n",
    "        throw AssertionError(message, cause)\n",
    "    }\n",
    "}\"\"\"\n"
   ]
  },
  {
   "cell_type": "code",
   "execution_count": 13,
   "id": "b799fc1e-c13d-4c08-84fd-c98bc16bd1e6",
   "metadata": {},
   "outputs": [
    {
     "ename": "SyntaxError",
     "evalue": "unexpected character after line continuation character (23761963.py, line 1)",
     "output_type": "error",
     "traceback": [
      "\u001b[0;36m  Cell \u001b[0;32mIn[13], line 1\u001b[0;36m\u001b[0m\n\u001b[0;31m    a = code.replace(\"\\n\", \" <EOL> \")\\\\\u001b[0m\n\u001b[0m                                      ^\u001b[0m\n\u001b[0;31mSyntaxError\u001b[0m\u001b[0;31m:\u001b[0m unexpected character after line continuation character\n"
     ]
    }
   ],
   "source": [
    "a = "
   ]
  },
  {
   "cell_type": "code",
   "execution_count": 11,
   "id": "50dec9b6-4338-4ba8-b227-6137e5cc9eca",
   "metadata": {},
   "outputs": [
    {
     "name": "stdout",
     "output_type": "stream",
     "text": [
      "['<EOL>', '/*', '<EOL>', '*', 'Copyright', '2010-2018', 'JetBrains', 's', '.', 'r', '.', 'o', '.', 'and', 'Kotlin', 'Programming', 'Language', 'contributors', '.', '<EOL>', '*', 'Use', 'of', 'this', 'source', 'code', 'is', 'governed', 'by', 'the', 'Apache', '2', '.', '0', 'license', 'that', 'can', 'be', 'found', 'in', 'the', 'license/LICENSE', '.', 'txt', 'file', '.', '<EOL>', '*/', '<EOL>', '<EOL>', 'package', 'kotlin', '.', 'test', '.', 'junit5', '<EOL>', '<EOL>', 'import', 'org', '.', 'junit', '.', 'jupiter', '.', 'api', '.', 'Assertions', '<EOL>', 'import', 'kotlin', '.', 'test', '.', '*', '<EOL>', '<EOL>', '/**', '<EOL>', '*', 'Provides', '[JUnit5Asserter]', 'if', '`org', '.', 'junit', '.', 'jupiter', '.', 'api', '.', 'Assertions`', 'class', 'is', 'found', 'in', 'the', 'classpath', '.', '<EOL>', '*/', '<EOL>', 'public', 'class', 'JUnit5Contributor', ':', 'AsserterContributor', '{', '<EOL>', 'override', 'fun', 'contribute', '(', ')', ':', 'Asserter?', '{', '<EOL>', 'return', 'if', '(', 'hasJUnitInClassPath', ')', 'JUnit5Asserter', 'else', 'null', '<EOL>', '}', '<EOL>', '<EOL>', 'private', 'val', 'hasJUnitInClassPath', '=', 'try', '{', '<EOL>', 'Class', '.', 'forName', '(', '\"', 'org', '.', 'junit', '.', 'jupiter', '.', 'api', '.', 'Assertions', '\"', ')', '<EOL>', 'true', '<EOL>', '}', 'catch', '(', '_', ':', 'ClassNotFoundException', ')', '{', '<EOL>', 'false', '<EOL>', '}', '<EOL>', '}', '<EOL>', '<EOL>', '/**', '<EOL>', '*', 'Implements', '`kotlin', '.', 'test`', 'assertions', 'by', 'delegating', 'them', 'to', '`org', '.', 'junit', '.', 'jupiter', '.', 'api', '.', 'Assertions`', 'class', '.', '<EOL>', '*/', '<EOL>', 'public', 'object', 'JUnit5Asserter', ':', 'Asserter', '{', '<EOL>', 'override', 'fun', 'assertEquals', '(', 'message', ':', 'String?', ',', 'expected', ':', 'Any?', ',', 'actual', ':', 'Any?', ')', '{', '<EOL>', 'Assertions', '.', 'assertEquals', '(', 'expected', ',', 'actual', ',', 'message', ')', '<EOL>', '}', '<EOL>', '<EOL>', 'override', 'fun', 'assertNotEquals', '(', 'message', ':', 'String?', ',', 'illegal', ':', 'Any?', ',', 'actual', ':', 'Any?', ')', '{', '<EOL>', 'Assertions', '.', 'assertNotEquals', '(', 'illegal', ',', 'actual', ',', 'message', ')', '<EOL>', '}', '<EOL>', '<EOL>', 'override', 'fun', 'assertSame', '(', 'message', ':', 'String?', ',', 'expected', ':', 'Any?', ',', 'actual', ':', 'Any?', ')', '{', '<EOL>', 'Assertions', '.', 'assertSame', '(', 'expected', ',', 'actual', ',', 'message', ')', '<EOL>', '}', '<EOL>', '<EOL>', 'override', 'fun', 'assertNotSame', '(', 'message', ':', 'String?', ',', 'illegal', ':', 'Any?', ',', 'actual', ':', 'Any?', ')', '{', '<EOL>', 'Assertions', '.', 'assertNotSame', '(', 'illegal', ',', 'actual', ',', 'message', ')', '<EOL>', '}', '<EOL>', '<EOL>', 'override', 'fun', 'assertNotNull', '(', 'message', ':', 'String?', ',', 'actual', ':', 'Any?', ')', '{', '<EOL>', 'Assertions', '.', 'assertNotNull', '(', 'actual', ',', 'message', '?', ':', '\"', 'actual', 'value', 'is', 'null', '\"', ')', '<EOL>', '}', '<EOL>', '<EOL>', 'override', 'fun', 'assertNull', '(', 'message', ':', 'String?', ',', 'actual', ':', 'Any?', ')', '{', '<EOL>', 'Assertions', '.', 'assertNull', '(', 'actual', ',', 'message', '?', ':', '\"', 'actual', 'value', 'is', 'not', 'null', '\"', ')', '<EOL>', '}', '<EOL>', '<EOL>', 'override', 'fun', 'fail', '(', 'message', ':', 'String?', ')', ':', 'Nothing', '{', '<EOL>', 'Assertions', '.', 'fail<Any?>', '(', 'message', ')', '<EOL>', '//', 'should', 'not', 'get', 'here', '<EOL>', 'throw', 'AssertionError', '(', 'message', ')', '<EOL>', '}', '<EOL>', '<EOL>', '@', 'SinceKotlin', '(', '\"', '1', '.', '4', '\"', ')', '<EOL>', 'override', 'fun', 'fail', '(', 'message', ':', 'String?', ',', 'cause', ':', 'Throwable?', ')', ':', 'Nothing', '{', '<EOL>', 'Assertions', '.', 'fail<Any?>', '(', 'message', ',', 'cause', ')', '<EOL>', '//', 'should', 'not', 'get', 'here', '<EOL>', 'throw', 'AssertionError', '(', 'message', ',', 'cause', ')', '<EOL>', '}', '<EOL>', '}']\n"
     ]
    }
   ],
   "source": [
    "print(a.split())"
   ]
  },
  {
   "cell_type": "code",
   "execution_count": null,
   "id": "541d7457-3bda-4a89-9a06-bb7995a2bcf1",
   "metadata": {},
   "outputs": [],
   "source": []
  }
 ],
 "metadata": {
  "kernelspec": {
   "display_name": "Python 3 (ipykernel)",
   "language": "python",
   "name": "python3"
  },
  "language_info": {
   "codemirror_mode": {
    "name": "ipython",
    "version": 3
   },
   "file_extension": ".py",
   "mimetype": "text/x-python",
   "name": "python",
   "nbconvert_exporter": "python",
   "pygments_lexer": "ipython3",
   "version": "3.10.12"
  }
 },
 "nbformat": 4,
 "nbformat_minor": 5
}
