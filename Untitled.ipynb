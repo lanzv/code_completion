{
 "cells": [
  {
   "cell_type": "code",
   "execution_count": 24,
   "id": "f14ffff9-cfbd-4d5e-b784-cf336b63e05b",
   "metadata": {},
   "outputs": [
    {
     "name": "stdout",
     "output_type": "stream",
     "text": [
      "2024-05-05 06:07:00 INFO     python dataset was loaded successfully\n",
      "2024-05-05 06:07:05 INFO     We will use 90% of the memory on device 0 for storing the model, and 10% for the buffer to avoid OOM. You can set `max_memory` in to a higher value to use more memory (at your own risk).\n",
      "2024-05-05 06:07:08 INFO     phi model was loaded successfully\n",
      "  0%|▏                                    | 185/47500 [01:32<5:02:56,  2.60it/s]^C\n",
      "  0%|▏                                    | 185/47500 [01:32<6:34:36,  2.00it/s]\n",
      "Traceback (most recent call last):\n",
      "  File \"/lnet/work/people/lanz/resq/JB_tasks/code_completion/run_experiment.py\", line 79, in <module>\n",
      "    main(args)\n",
      "  File \"/lnet/work/people/lanz/resq/JB_tasks/code_completion/run_experiment.py\", line 58, in main\n",
      "    model.train(dataset.train, dataset.dev, disable_tqdm=args.disable_tqdm)\n",
      "  File \"/lnet/work/people/lanz/resq/JB_tasks/code_completion/src/llm_models.py\", line 23, in train\n",
      "    for _, batch in enumerate(tqdm(train_dataloader, disable=disable_tqdm)):\n",
      "  File \"/home/lanz/.local/lib/python3.10/site-packages/tqdm/std.py\", line 1182, in __iter__\n",
      "    for obj in iterable:\n",
      "  File \"/home/lanz/.local/lib/python3.10/site-packages/torch/utils/data/dataloader.py\", line 631, in __next__\n",
      "    data = self._next_data()\n",
      "  File \"/home/lanz/.local/lib/python3.10/site-packages/torch/utils/data/dataloader.py\", line 675, in _next_data\n",
      "    data = self._dataset_fetcher.fetch(index)  # may raise StopIteration\n",
      "  File \"/home/lanz/.local/lib/python3.10/site-packages/torch/utils/data/_utils/fetch.py\", line 54, in fetch\n",
      "    return self.collate_fn(data)\n",
      "  File \"/lnet/work/people/lanz/resq/JB_tasks/code_completion/src/llm_models.py\", line 61, in __collate_tokenize\n",
      "    return self.tokenizer(code_batch, padding='longest', truncation=True, return_tensors='pt').input_ids.to(next(self.model.parameters()).device)\n",
      "KeyboardInterrupt\n"
     ]
    }
   ],
   "source": [
    "!python run_experiment.py --dataset python --train True"
   ]
  },
  {
   "cell_type": "code",
   "execution_count": null,
   "id": "541d7457-3bda-4a89-9a06-bb7995a2bcf1",
   "metadata": {},
   "outputs": [],
   "source": []
  }
 ],
 "metadata": {
  "kernelspec": {
   "display_name": "Python 3 (ipykernel)",
   "language": "python",
   "name": "python3"
  },
  "language_info": {
   "codemirror_mode": {
    "name": "ipython",
    "version": 3
   },
   "file_extension": ".py",
   "mimetype": "text/x-python",
   "name": "python",
   "nbconvert_exporter": "python",
   "pygments_lexer": "ipython3",
   "version": "3.10.12"
  }
 },
 "nbformat": 4,
 "nbformat_minor": 5
}
